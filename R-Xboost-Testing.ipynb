{
 "cells": [
  {
   "cell_type": "code",
   "execution_count": 1,
   "metadata": {},
   "outputs": [
    {
     "name": "stderr",
     "output_type": "stream",
     "text": [
      "\n",
      "Attaching package: ‘dplyr’\n",
      "\n",
      "The following objects are masked from ‘package:stats’:\n",
      "\n",
      "    filter, lag\n",
      "\n",
      "The following objects are masked from ‘package:base’:\n",
      "\n",
      "    intersect, setdiff, setequal, union\n",
      "\n",
      "Loading required package: lattice\n",
      "Loading required package: ggplot2\n"
     ]
    }
   ],
   "source": [
    "# Librarires\n",
    "library(dplyr)\n",
    "library(readr)\n",
    "library(caret)"
   ]
  },
  {
   "cell_type": "code",
   "execution_count": 2,
   "metadata": {},
   "outputs": [
    {
     "data": {
      "text/html": [
       "561"
      ],
      "text/latex": [
       "561"
      ],
      "text/markdown": [
       "561"
      ],
      "text/plain": [
       "[1] 561"
      ]
     },
     "metadata": {},
     "output_type": "display_data"
    }
   ],
   "source": [
    "# Feature names\n",
    "feat_names <- read_delim(\"./UCIHAR/features.txt\", delim = \" \", col_names = c(\"code\", \"feature\"), col_types = \"cc\")\n",
    "feat_names <- mutate(feat_names, code=paste0(\"f\",code))\n",
    "# Number of features\n",
    "n_feats = dim(feat_names)[1]\n",
    "n_feats"
   ]
  },
  {
   "cell_type": "code",
   "execution_count": 3,
   "metadata": {},
   "outputs": [
    {
     "name": "stderr",
     "output_type": "stream",
     "text": [
      "Parsed with column specification:\n",
      "cols(\n",
      "  .default = col_double()\n",
      ")\n",
      "See spec(...) for full column specifications.\n",
      "Parsed with column specification:\n",
      "cols(\n",
      "  label = col_integer()\n",
      ")\n"
     ]
    }
   ],
   "source": [
    "# Load training data\n",
    "X_train <- read_table(\"./UCIHAR/train/X_train.txt\", col_names = paste0(\"f\",1:n_feats))\n",
    "y_train <- read_table(\"./UCIHAR/train/y_train.txt\", col_names = c(\"label\"))\n",
    "\n",
    "#X_train\n",
    "#dim(X_train)"
   ]
  },
  {
   "cell_type": "code",
   "execution_count": 4,
   "metadata": {},
   "outputs": [
    {
     "name": "stderr",
     "output_type": "stream",
     "text": [
      "Parsed with column specification:\n",
      "cols(\n",
      "  label = col_integer()\n",
      ")\n"
     ]
    }
   ],
   "source": [
    "y_train <- read_table(\"./UCIHAR/train/y_train.txt\", col_names = c(\"label\"))"
   ]
  },
  {
   "cell_type": "code",
   "execution_count": 5,
   "metadata": {},
   "outputs": [
    {
     "name": "stderr",
     "output_type": "stream",
     "text": [
      "Parsed with column specification:\n",
      "cols(\n",
      "  .default = col_double()\n",
      ")\n",
      "See spec(...) for full column specifications.\n",
      "Parsed with column specification:\n",
      "cols(\n",
      "  label = col_integer()\n",
      ")\n"
     ]
    }
   ],
   "source": [
    "# Load testing data\n",
    "X_test <- read_table(\"./UCIHAR/test/X_test.txt\", col_names = paste0(\"f\",1:n_feats))\n",
    "y_test <- read_table(\"./UCIHAR/test/y_test.txt\", col_names = c(\"label\"))"
   ]
  },
  {
   "cell_type": "code",
   "execution_count": 6,
   "metadata": {},
   "outputs": [],
   "source": [
    "# Function for rescaling and centering features\n",
    "standardize <- function(x){\n",
    "  (x - mean(x))/sd(x)\n",
    "}\n",
    "\n",
    "# Combine train and test (flag by is.train to split back later)\n",
    "X_train <- mutate(X_train, is.train = 1)\n",
    "X_test <- mutate(X_test, is.train = 0)\n",
    "X_full <- rbind(X_train, X_test)\n",
    "\n",
    "\n",
    "# Standardize (column (n_feats+1) = 652 is `is.train`, which is just a flag)\n",
    "X_full[,-(n_feats+1)] <- X_full[,-(n_feats+1)] %>% mutate_all(funs(standardize))\n",
    "\n",
    "#X_full"
   ]
  },
  {
   "cell_type": "code",
   "execution_count": 8,
   "metadata": {},
   "outputs": [],
   "source": [
    "library(plyr)"
   ]
  },
  {
   "cell_type": "code",
   "execution_count": 9,
   "metadata": {},
   "outputs": [
    {
     "ename": "ERROR",
     "evalue": "Error in library(xgboost): there is no package called ‘xgboost’\n",
     "output_type": "error",
     "traceback": [
      "Error in library(xgboost): there is no package called ‘xgboost’\nTraceback:\n",
      "1. library(xgboost)",
      "2. stop(txt, domain = NA)"
     ]
    }
   ],
   "source": [
    "library(dplyr)\n",
    "library(caret)\n",
    "library(xgboost)\n",
    "library(MLmetrics)"
   ]
  },
  {
   "cell_type": "code",
   "execution_count": 12,
   "metadata": {},
   "outputs": [
    {
     "ename": "ERROR",
     "evalue": "Error in xgb.DMatrix(as.matrix(X_tr), label = y_tr): could not find function \"xgb.DMatrix\"\n",
     "output_type": "error",
     "traceback": [
      "Error in xgb.DMatrix(as.matrix(X_tr), label = y_tr): could not find function \"xgb.DMatrix\"\nTraceback:\n"
     ]
    }
   ],
   "source": [
    "\n",
    "# Split back into train/test\n",
    "X_tr <- X_full %>% filter(is.train == 1) %>% dplyr::select(-is.train)\n",
    "X_tst <- X_full %>% filter(is.train == 0) %>% dplyr::select(-is.train)\n",
    "# XGboost wants levels to start with 0\n",
    "y_tr <- as.factor(y_train$label)\n",
    "y_tr <- revalue(y_tr, c('6'='5', '5'='4', '4'='3', '3'='2', '2'='1', '1'='0'))\n",
    "y_tr <- as.numeric(levels(y_tr))[y_tr]\n",
    "\n",
    "# XGB style matrices\n",
    "dtrain <- xgb.DMatrix(as.matrix(X_tr), label = y_tr)\n",
    "watchlist <- list(train=dtrain)\n"
   ]
  },
  {
   "cell_type": "code",
   "execution_count": 17,
   "metadata": {},
   "outputs": [
    {
     "name": "stdout",
     "output_type": "stream",
     "text": [
      "[1] 1\n",
      "[1] 2\n",
      "[1] 3\n",
      "[1] 4\n",
      "[1] 5\n",
      "[1] 6\n",
      "[1] 7\n",
      "[1] 8\n",
      "[1] 9\n",
      "[1] 10\n",
      "[1] 11\n",
      "[1] 12\n"
     ]
    }
   ],
   "source": [
    "grid_1 <- expand.grid(eta = c(0.3,0.5,0.7),\n",
    "                      max_depth = c(1,2,6,8))\n",
    "cv.results <- data.frame(grid_1) %>% mutate(nrounds = 0) %>% mutate(mll_train = 0) %>% mutate(mll_test = 0)\n",
    "\n",
    "for (ind in 1:nrow(cv.results)){\n",
    "    print(ind)\n",
    "}"
   ]
  },
  {
   "cell_type": "code",
   "execution_count": null,
   "metadata": {},
   "outputs": [],
   "source": []
  }
 ],
 "metadata": {
  "kernelspec": {
   "display_name": "R",
   "language": "R",
   "name": "ir"
  },
  "language_info": {
   "codemirror_mode": "r",
   "file_extension": ".r",
   "mimetype": "text/x-r-source",
   "name": "R",
   "pygments_lexer": "r",
   "version": "3.5.0"
  }
 },
 "nbformat": 4,
 "nbformat_minor": 2
}
